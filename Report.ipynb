{
 "cells": [
  {
   "cell_type": "markdown",
   "metadata": {},
   "source": [
    "# Report  \n",
    "Coursera Capstone project final  \n",
    "As for this last assignment I had to come up with a problem to solve, and as we all know to use Foursquare API in it. Since I am from not that big of a country, but from one of the biggest cities in it, I decided to apply Foursqare to this town. If nothing else , I hope I will interest you into visiting this cute little town. Since it's not a metropola, and is far from America where Foursquare is actually in use, I had little data to work with, so I had to be creative. I imagined this scenario: An investor comes to me asking me to figure out, which part of the city is good for investment in new tourist attractions like hotels restaurants etc. since Central part of the city is crowded already. So title of this made up project will be simple as:\n",
    "# Novi Sad Superstar Neighborhood in making  \n",
    "## Introduction  \n",
    "Aim of this paper is to examine neighborhoods in city of Novi Sad in order to determine which part of town is good for investing in new object attractive for tourists, as well as it's citizens. It is well known already that the centre of the town is biggest tourist magnet, but in order to promote other parts of the city, it's needed to determine which are similar to the centre. Also, as the city is growing every year, and structure of neighborhoods is changing, it is needed to determine which parameters give best predictions on popularity of venues among neighborhoods.  \n",
    "## Data\n",
    "In order to solve given problem, for each neighborhood data will be collected on: number of popular venues, population of the neighborhood, number od cultural spots and buildings, number of schools, faculties, buisness objects and busy streets. Except from popular venues , which will be collected trough Foursquare API, rest of the parameters will be collected from Wikipedia sources. "
   ]
  },
  {
   "cell_type": "code",
   "execution_count": null,
   "metadata": {},
   "outputs": [],
   "source": []
  }
 ],
 "metadata": {
  "kernelspec": {
   "display_name": "Python",
   "language": "python",
   "name": "conda-env-python-py"
  },
  "language_info": {
   "codemirror_mode": {
    "name": "ipython",
    "version": 3
   },
   "file_extension": ".py",
   "mimetype": "text/x-python",
   "name": "python",
   "nbconvert_exporter": "python",
   "pygments_lexer": "ipython3",
   "version": "3.6.10"
  }
 },
 "nbformat": 4,
 "nbformat_minor": 4
}
