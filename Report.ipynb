{
 "cells": [
  {
   "cell_type": "markdown",
   "metadata": {},
   "source": [
    "# Report  \n",
    "Coursera Capstone project final  \n",
    "As for this last assignment I had to come up with a problem to solve, and as we all know to use Foursquare API in it. Since I am from not that big of a country, but from one of the biggest cities in it, I decided to apply Foursqare to this town. If nothing else , I hope I will interest you into visiting this cute little town. Since it's not a metropola, and is far from America where Foursquare is actually in use, I had little data to work with, so I had to be creative. I imagined this scenario: An investor comes to me asking me to figure out, which part of the city is good for investment in new tourist attractions like hotels restaurants etc. since Central part of the city is crowded already. So title of this made up project will be simple as:\n",
    "# Novi Sad Superstar Neighborhood in making  \n",
    "## Introduction  \n",
    "Aim of this paper is to examine neighborhoods in city of Novi Sad in order to determine which part of town is good for investing in new object attractive for tourists, as well as it's citizens. It is well known already that the centre of the town is biggest tourist magnet, but in order to promote other parts of the city, it's needed to determine which are similar to the centre. Also, as the city is growing every year, and structure of neighborhoods is changing, it is needed to determine which parameters give best predictions on popularity of venues among neighborhoods.  \n",
    "## Data\n",
    "In order to solve given problem, for each neighborhood data will be collected on: number of popular venues, population of the neighborhood, number od cultural spots and buildings, number of schools, faculties, business objects and busy streets. Except from popular venues , which will be collected trough Foursquare API, rest of the parameters will be collected from Wikipedia sources. \n",
    "## Methodology\n",
    "In order to find answers to given problem, using obtained data, next steps were taken. First, using Foursqaure API, all venues on the teritory of the city of Novi Sad were called. The final list contained 30 venues. Next, for each neighborhood, number of recalled venues was counted and added to the already crated table which contained data from Wikipedia sources, namely: neighborhood name, population, number of schools, number of faculties, number of buisness buildings, number of cultural spots,monuments, sightseeings and number of streets with busy traffic. \n",
    "Next, in order to answer which of the parameters of neighborhood contribute most to the popularity of venues in neighborhood, **Multiple Linear regression** was done, where dependent variable was number of venues, and list of independent variables was next: neighborhood name, population, number of schools, number of faculties, number of buisness buildings, number of cultural spots,monuments, sightseeings and number of streets with busy traffic. From the given results, and the simple number of venues, most popular neighborhood was choosen.\n",
    "In order to answer the question, which neighborhood(s) have potential of becoming popular as well,  **K-Means clustering** was procedeed. For the value of k, 3 was choosen, since there was found a typology of neighborhoods containing 3 categories: entertainment, business and family. The set of variables included in analysis contained: number of popular venues, neighborhood name, population, number of schools, number of faculties, number of buisness buildings, number of cultural spots,monuments, sightseeings and number of streets with busy traffic. After analysis, neighborhoods found in the same cluster as the most popular one were named as prospective.  \n",
    "# Results\n",
    "Result of Foursqare API call was list of 30 venues in Novi Sad. Location of these venues (coral) and pin points of neighborhoods (green) is shown in the picture above. As we can already see, most of the venues belongs to the city centre called \"Stari grad\".\n"
   ]
  },
  {
   "cell_type": "markdown",
   "metadata": {},
   "source": [
    "![title](labs/DP0701EN/mapa.PNG)"
   ]
  },
  {
   "cell_type": "markdown",
   "metadata": {},
   "source": [
    "Using value count, for each neighborhood was found the number of popular venues and added to table containing all data collected from Wikipedia. \n",
    "![title](labs/DP0701EN/tabela.PNG)\n"
   ]
  },
  {
   "cell_type": "markdown",
   "metadata": {},
   "source": [
    "Multiple Linear analysis results were following. Coefficients for  each of variables: population, number of cultural, business, school and faculty objects and busy streets were 6.80837199 6.02752977 2.97126323 3.13093064, 2.1934709 and 8.55232972, respectively. Intercept was 2.83340219.  \n",
    " Unfortunately train-test accuracy couldn't be done, since the sample is too small. Nevertheless, proportion of explained variance (R square) was 91%, which showed that model is good.\n",
    "\n",
    "K- Means clustering analysis gave the following results. \n",
    "![title](labs/DP0701EN/map2.PNG)  \n",
    "As we can see from the picture, 3 clusters were formed, orange one containing 3 neighborhoods: the most popular - Stari grad and 2 more: Liman 1 and Salajka. (Unfortunatelly you cannot see all the names in the picture, but feel free to go to my code notebook and click on the points ;))  \n",
    "# Discussion\n",
    "Foursqare API call didn't gave much venues, which was expected, since the Foursqare app isn't amongst popular in Serbia. Also most of the venues concetrated around one neighborhood- city centre, which was expected since it is the most entertaining one, but it didn't gave us the data dispersity we wanted. So when it comes to conclusions in this report, ewe need to stay critical, since the data was small and rather concetrated. Nevertheless, data from Fourqare API was rather usefull because eventhough it didn't gave us the best informations for the whole city it showed us what tourists, mostly from west, are interested in wen they come to the city, which is what client wanted.\n",
    "Results from Multiple Linear analysis showed that model is good. Since it explains most of the variance, we can conclude that it should gave good predictions, but it should be further tested on greater sample. Coefficients showed us that best determinant it number of busy streets, followed by population and cultural spots. This is logical, since the greater the population, the busier streets, therefore more venues, from which certain percentage will be popular. Cultural spots are expected since tourist mostly go there, and make close venues more visited.\n",
    "K- Means clustering results showed that Liman 1 and Salajka are similair to the city centre, which is expected, since both neighborhoods are close to the city centre and have lot of busy streets in case of Salajka and lot of popular venues in case of Liman 1, probably due to a lot of faculties attracting number of foreign students to the close venues.\n",
    "# Conclusion\n",
    "We can conclude that the results from both Multiple Linear Regression and K Means clustering show similar results, which means that chosen variables were relevant and that they can be useful in deciding and predicting next popular neighborhoods. To our client we advise to invest in neighborhoods Liman 1 and Salajka."
   ]
  },
  {
   "cell_type": "markdown",
   "metadata": {},
   "source": [
    "**Thank you for watching this notebook! <3**"
   ]
  },
  {
   "cell_type": "code",
   "execution_count": null,
   "metadata": {},
   "outputs": [],
   "source": []
  }
 ],
 "metadata": {
  "kernelspec": {
   "display_name": "Python",
   "language": "python",
   "name": "conda-env-python-py"
  },
  "language_info": {
   "codemirror_mode": {
    "name": "ipython",
    "version": 3
   },
   "file_extension": ".py",
   "mimetype": "text/x-python",
   "name": "python",
   "nbconvert_exporter": "python",
   "pygments_lexer": "ipython3",
   "version": "3.6.10"
  }
 },
 "nbformat": 4,
 "nbformat_minor": 4
}
